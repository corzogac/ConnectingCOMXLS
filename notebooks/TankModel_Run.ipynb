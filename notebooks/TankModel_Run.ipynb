﻿{
 "cells": [
  {
   "cell_type": "code",
   "execution_count": null,
   "metadata": {},
   "outputs": [],
   "source": [
    "from scripts.run_macro import run_excel_macro\\n",
    "run_excel_macro(\"excel/TankModel.xlsm\", \"Module1.RunTankModel\", save=True)"
   ]
  }
 ],
 "metadata": {
  "kernelspec": {"display_name": "Python 3", "language": "python", "name": "python3"},
  "language_info": {"name": "python", "version": "3.12"}
 },
 "nbformat": 4,
 "nbformat_minor": 5
}
