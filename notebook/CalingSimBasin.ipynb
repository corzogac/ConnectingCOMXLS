{
 "cells": [
  {
   "cell_type": "markdown",
   "metadata": {},
   "source": [
    "Test Number 1"
   ]
  },
  {
   "cell_type": "code",
   "execution_count": null,
   "metadata": {},
   "outputs": [],
   "source": [
    "import sys, os\n",
    "from pathlib import Path\n",
    "\n",
    "# Add repo root to import path\n",
    "REPO_ROOT = Path(os.getcwd()).resolve()\n",
    "if REPO_ROOT.name == \"notebooks\":\n",
    "    REPO_ROOT = REPO_ROOT.parent\n",
    "sys.path.append(str(REPO_ROOT))\n",
    "\n",
    "\n"
   ]
  },
  {
   "cell_type": "code",
   "execution_count": null,
   "metadata": {
    "collapsed": true
   },
   "outputs": [],
   "source": [
    "from scripts.run_macro import run_excel_macro\n",
    "\n",
    "xlsm = REPO_ROOT / \"excel\" / \"TankModel.xlsm\"\n",
    "print(\"Opening:\", xlsm)\n",
    "assert xlsm.exists(), f\"Workbook not found: {xlsm}\"\n",
    "\n",
    "run_excel_macro(xlsm, \"Module1.RunTankModel\", save=True)"
   ]
  }
 ],
 "metadata": {
  "kernelspec": {
   "display_name": "Python 3",
   "language": "python",
   "name": "python3"
  },
  "language_info": {
   "codemirror_mode": {
    "name": "ipython",
    "version": 3
   },
   "file_extension": ".py",
   "mimetype": "text/x-python",
   "name": "python",
   "nbconvert_exporter": "python",
   "pygments_lexer": "ipython3",
   "version": "3.6.1"
  }
 },
 "nbformat": 4,
 "nbformat_minor": 2
}
